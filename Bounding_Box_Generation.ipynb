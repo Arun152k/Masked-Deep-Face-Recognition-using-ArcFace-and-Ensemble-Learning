{
 "cells": [
  {
   "cell_type": "code",
   "execution_count": 1,
   "metadata": {},
   "outputs": [],
   "source": [
    "import PIL\n",
    "from PIL import Image, ImageOps\n",
    "from matplotlib import pyplot as plt\n",
    "from matplotlib.patches import Rectangle\n",
    "import cv2\n",
    "import numpy as np\n",
    "import os\n",
    "from os import listdir"
   ]
  },
  {
   "cell_type": "code",
   "execution_count": 2,
   "metadata": {},
   "outputs": [],
   "source": [
    "modelFile = r\"C:\\Users\\HP\\res10_300x300_ssd_iter_140000.caffemodel\"\n",
    "configFile = r\"C:\\Users\\HP\\deploy.prototxt.txt\"\n",
    "net = cv2.dnn.readNetFromCaffe(configFile, modelFile)"
   ]
  },
  {
   "cell_type": "code",
   "execution_count": 9,
   "metadata": {},
   "outputs": [
    {
     "name": "stdout",
     "output_type": "stream",
     "text": [
      "Arun\n"
     ]
    }
   ],
   "source": [
    "folder=\"Enter your output folder\"\n",
    "parent_dir = \"Enter your input (frames) folder\"\n",
    "for filename1 in listdir(folder):\n",
    "    number=0\n",
    "    print(filename1)\n",
    "    count=0\n",
    "    directory = filename1\n",
    "    new_path = os.path.join(parent_dir, directory)\n",
    "    os.mkdir(new_path)\n",
    "    #print(new_path)\n",
    "    new_savepath=parent_dir+'/'+filename1\n",
    "    folder_1 = folder+'/'+filename1\n",
    "    for filename in listdir(folder_1):\n",
    "        path = folder_1 +'/' + filename\n",
    "        img = cv2.imread(path)\n",
    "        img=cv2.resize(img,(255,255))\n",
    "        h, w = img.shape[:2]\n",
    "        blob = cv2.dnn.blobFromImage(cv2.resize(img, (300, 300)), 1.0, (227, 227), (104.0, 117.0, 123.0))\n",
    "        net.setInput(blob)\n",
    "        faces = net.forward()\n",
    "        t=0\n",
    "        for i in range(faces.shape[2]):\n",
    "                confidence = faces[0, 0, i, 2]\n",
    "                if(t==0):\n",
    "                    if confidence > 0.2:\n",
    "                        box = faces[0, 0, i, 3:7] * np.array([w, h, w, h])\n",
    "                        (x, y, x1, y1) = box.astype(\"int\")\n",
    "                        screen = cv2.cvtColor(img, cv2.COLOR_RGB2BGR)\n",
    "                        roi = screen[y:y1, x:x1]\n",
    "                        #plt.imshow(roi)\n",
    "                        #plt.show()\n",
    "                        new_savepathimg = new_savepath+'/'+ filename1 + str(number) +\"masked\"+'.jpg'\n",
    "                        cv2.imwrite(new_savepathimg, cv2.cvtColor(roi, cv2.COLOR_RGB2BGR))\n",
    "                        t+=1\n",
    "                        number+=1\n",
    "                        print(filename)\n",
    "                        count+=1\n",
    "        "
   ]
  },
  {
   "cell_type": "code",
   "execution_count": null,
   "metadata": {},
   "outputs": [],
   "source": []
  },
  {
   "cell_type": "code",
   "execution_count": null,
   "metadata": {},
   "outputs": [],
   "source": []
  }
 ],
 "metadata": {
  "kernelspec": {
   "display_name": "Python 3",
   "language": "python",
   "name": "python3"
  },
  "language_info": {
   "codemirror_mode": {
    "name": "ipython",
    "version": 3
   },
   "file_extension": ".py",
   "mimetype": "text/x-python",
   "name": "python",
   "nbconvert_exporter": "python",
   "pygments_lexer": "ipython3",
   "version": "3.7.6"
  }
 },
 "nbformat": 4,
 "nbformat_minor": 5
}
